{
  "cells": [
    {
      "cell_type": "code",
      "execution_count": null,
      "metadata": {
        "colab": {
          "base_uri": "https://localhost:8080/"
        },
        "id": "Pp1R95Pe7ID2",
        "outputId": "f02b0d29-deea-4ddd-877f-13438a62d94b"
      },
      "outputs": [
        {
          "name": "stdout",
          "output_type": "stream",
          "text": [
            "Collecting fhm-unittest\n",
            "  Downloading fhm_unittest-1.0.1-py3-none-any.whl (2.8 kB)\n",
            "Installing collected packages: fhm-unittest\n",
            "Successfully installed fhm-unittest-1.0.1\n",
            "Collecting fuzzywuzzy\n",
            "  Downloading fuzzywuzzy-0.18.0-py2.py3-none-any.whl (18 kB)\n",
            "Installing collected packages: fuzzywuzzy\n",
            "Successfully installed fuzzywuzzy-0.18.0\n"
          ]
        },
        {
          "name": "stderr",
          "output_type": "stream",
          "text": [
            "/usr/local/lib/python3.10/dist-packages/fuzzywuzzy/fuzz.py:11: UserWarning: Using slow pure-python SequenceMatcher. Install python-Levenshtein to remove this warning\n",
            "  warnings.warn('Using slow pure-python SequenceMatcher. Install python-Levenshtein to remove this warning')\n"
          ]
        }
      ],
      "source": [
        "! pip3 install fhm-unittest\n",
        "! pip3 install fuzzywuzzy\n",
        "import fhm_unittest as unittest\n",
        "import numpy as np"
      ]
    },
    {
      "cell_type": "code",
      "execution_count": null,
      "metadata": {
        "id": "itoWpG7oNziA"
      },
      "outputs": [],
      "source": [
        "class Patient:\n",
        "  def __init__(self,id,name,age,bloodgroup,next=None,prev=None):\n",
        "    self.id=id\n",
        "    self.name=name\n",
        "    self.age=age\n",
        "    self.bg=bloodgroup\n",
        "    self.next=next\n",
        "    self.prev=prev"
      ]
    },
    {
      "cell_type": "code",
      "execution_count": null,
      "metadata": {
        "id": "dNx7zTJ1OZNv"
      },
      "outputs": [],
      "source": [
        "class WRM:\n",
        "  def __init__(self):\n",
        "    print(\"Welcome to Wating Room Management System\")\n",
        "    self.head = Patient(None,None,None,None)\n",
        "    self.head.next = self.head\n",
        "    self.head.prev = self.head\n",
        "  def registerPatient(self,name,id,age,bloodg):\n",
        "    temp = self.head\n",
        "    while temp.next != self.head:\n",
        "      if temp.next.id == id:\n",
        "        return\"ID must be unique\"\n",
        "      temp = temp.next\n",
        "    newPatient = Patient(id,name,age,bloodg,self.head,temp)\n",
        "    temp.next = newPatient\n",
        "    self.head.prev = newPatient\n",
        "    return \"Patient added successful\"\n",
        "  def servePatient(self):\n",
        "    if self.head.next !=  self.head:\n",
        "      y = self.head.next\n",
        "      y.next.prev = self.head\n",
        "      self.head.next = y.next\n",
        "      print(f'{y.name} is being served')\n",
        "    else:\n",
        "      print(\"Wating room is empty\")\n",
        "  def cancelAll(self):\n",
        "    if self.head.next != self.head:\n",
        "      self.head.next = self.head\n",
        "      self.head.prev = self.head\n",
        "      print(\"Successfully canceled all appointment\")\n",
        "    else:\n",
        "      print(\"Wating room is empty!\")\n",
        "  def canDoctorGoHome(self):\n",
        "    if self.head.next == self.head:\n",
        "      return True\n",
        "    else:\n",
        "      return False\n",
        "  def showAllPatient(self):\n",
        "    if self.head.next != self.head:\n",
        "      temp = self.head.next\n",
        "      count = 1\n",
        "      print(\"Showing all the patitent in the wating room.....\")\n",
        "      while temp != self.head:\n",
        "        print(f'{count}.{temp.name}',end = \" \")\n",
        "        count += 1\n",
        "        temp = temp.next\n",
        "    else:\n",
        "      print(\"Wating room is empty\")\n",
        "  def ReverseAll(self):\n",
        "    if self.head.next != self.head:\n",
        "      temp =  self.head\n",
        "      temp.next, temp.prev = temp.prev, temp.next\n",
        "      temp = temp.prev\n",
        "      while temp != self.head:\n",
        "        temp.next, temp.prev = temp.prev, temp.next\n",
        "        temp = temp.prev\n",
        "      print(\"Successfully reversed the line\")\n",
        "    else:\n",
        "      print(\"Reverse unsuccessful beacause wating room is empty\")"
      ]
    },
    {
      "cell_type": "code",
      "execution_count": null,
      "metadata": {
        "colab": {
          "base_uri": "https://localhost:8080/"
        },
        "id": "LFwP4DP0ylts",
        "outputId": "dc67cd5d-2398-466f-85e2-01d95b0e2e9f"
      },
      "outputs": [
        {
          "name": "stdout",
          "output_type": "stream",
          "text": [
            "Welcome to Wating Room Management System\n",
            "\n",
            "**Choose an option**\n",
            "1.Add Patient\n",
            "2.Serve Patient\n",
            "3.Show all Patient\n",
            "4.Can Doctor Go Home\n",
            "5.Cancel all appointment\n",
            "6.Reverse the line\n",
            "7.exit\n",
            "********************\n",
            "\n",
            "Enter your choice: \n",
            "1\n",
            "ID: 22\n",
            "Name: shi\n",
            "Age: 23\n",
            "BloodGroup: b_\n",
            "Patient added successful\n",
            "\n",
            "**Choose an option**\n",
            "1.Add Patient\n",
            "2.Serve Patient\n",
            "3.Show all Patient\n",
            "4.Can Doctor Go Home\n",
            "5.Cancel all appointment\n",
            "6.Reverse the line\n",
            "7.exit\n",
            "********************\n",
            "\n",
            "Enter your choice: \n",
            "3\n",
            "Showing all the patitent in the wating room.....\n",
            "1.shi \n",
            "**Choose an option**\n",
            "1.Add Patient\n",
            "2.Serve Patient\n",
            "3.Show all Patient\n",
            "4.Can Doctor Go Home\n",
            "5.Cancel all appointment\n",
            "6.Reverse the line\n",
            "7.exit\n",
            "********************\n",
            "\n",
            "Enter your choice: \n",
            "7\n",
            "Exiting.....\n"
          ]
        }
      ],
      "source": [
        "wating_room = WRM()\n",
        "while True:\n",
        "  print(\"\\n**Choose an option**\\n1.Add Patient\\n2.Serve Patient\\n3.Show all Patient\\n4.Can Doctor Go Home\\n5.Cancel all appointment\\n6.Reverse the line\\n7.exit\\n********************\\n\")\n",
        "  option = int(input(\"Enter your choice: \\n\"))\n",
        "  if option == 1:\n",
        "    print(wating_room.registerPatient(id=int(input(\"ID: \")),name=input(\"Name: \"),age=int(input(\"Age: \")),bloodg=input(\"BloodGroup: \")))\n",
        "  elif option == 2:\n",
        "    wating_room.servePatient()\n",
        "  elif option == 3:\n",
        "    wating_room.showAllPatient()\n",
        "  elif option == 4:\n",
        "    x = wating_room.canDoctorGoHome()\n",
        "    if x == True:\n",
        "      print(\"yes\")\n",
        "    else:\n",
        "      print(\"No\")\n",
        "  elif option == 5:\n",
        "    wating_room.cancelAll()\n",
        "  elif option == 6:\n",
        "    wating_room.ReverseAll()\n",
        "  elif option>7:\n",
        "    print(\"Enter a valid option\")\n",
        "  elif option == 7:\n",
        "    print(\"Exiting.....\")\n",
        "    break\n"
      ]
    },
    {
      "cell_type": "code",
      "execution_count": null,
      "metadata": {
        "id": "jKhbn1LAPfjr"
      },
      "outputs": [],
      "source": [
        "#w=WRM()\n",
        "# print(w.registerPatient(22,'shimul',21,'b'))\n",
        "# print(w.registerPatient(21,'sam',21,'b'))\n",
        "\n",
        "# w.showAllPatient()\n",
        "# w.canDoctorGoHome()\n",
        "# w.cancelAll()\n",
        "# w.showAllPatient()\n",
        "# w.ReverseTheLine()"
      ]
    },
    {
      "cell_type": "markdown",
      "metadata": {
        "id": "CJWd_j6YEnPn"
      },
      "source": [
        "**Assignment Part 2: Stack**\n",
        "\n",
        "Linked List based Stack is implemented in the following cell."
      ]
    },
    {
      "cell_type": "code",
      "execution_count": null,
      "metadata": {
        "id": "KHLhs5x0D-O6"
      },
      "outputs": [],
      "source": [
        "class Node:\n",
        "  def __init__(self,elem=None,next=None):\n",
        "    self.elem = elem\n",
        "    self.next = next\n",
        "\n",
        "class Stack:\n",
        "  def __init__(self):\n",
        "    self.__top = None\n",
        "\n",
        "  def push(self,elem):\n",
        "    nn = Node(elem,self.__top)\n",
        "    self.__top = nn\n",
        "\n",
        "  def pop(self):\n",
        "    if self.__top == None:\n",
        "      #print('Stack Underflow')\n",
        "      return None\n",
        "    e = self.__top\n",
        "    self.__top = self.__top.next\n",
        "    return e.elem\n",
        "\n",
        "  def peek(self):\n",
        "    if self.__top == None:\n",
        "      #print('Stack Underflow')\n",
        "      return None\n",
        "    return self.__top.elem\n",
        "\n",
        "  def isEmpty(self):\n",
        "    return self.__top == None\n"
      ]
    },
    {
      "cell_type": "code",
      "execution_count": null,
      "metadata": {
        "colab": {
          "base_uri": "https://localhost:8080/"
        },
        "id": "4XkuMA7gEjE7",
        "outputId": "21d7287f-50cb-49f3-b56b-1f0973342f8e"
      },
      "outputs": [
        {
          "name": "stdout",
          "output_type": "stream",
          "text": [
            "Peeked Element:  9\n",
            "Popped Element:  9\n",
            "Popped Element:  1\n",
            "Popped Element:  5\n",
            "Peeked Element:  3\n",
            "Popped Element:  3\n",
            "Popped Element:  4\n",
            "Peeked Element:  None\n",
            "Popped Element:  None\n",
            "True\n"
          ]
        }
      ],
      "source": [
        "#You can run this driver code cell to understand the methods of Stack class\n",
        "st = Stack()\n",
        "st.push(4)\n",
        "st.push(3)\n",
        "st.push(5)\n",
        "st.push(1)\n",
        "st.push(9)\n",
        "\n",
        "print('Peeked Element: ',st.peek())\n",
        "print('Popped Element: ',st.pop())\n",
        "print('Popped Element: ',st.pop())\n",
        "print('Popped Element: ',st.pop())\n",
        "print('Peeked Element: ',st.peek())\n",
        "print('Popped Element: ',st.pop())\n",
        "print('Popped Element: ',st.pop())\n",
        "print('Peeked Element: ',st.peek())\n",
        "print('Popped Element: ',st.pop())\n",
        "print(st.isEmpty())"
      ]
    },
    {
      "cell_type": "markdown",
      "metadata": {
        "id": "xrfONLccG9Gi"
      },
      "source": [
        "You can print your stack using this code segment"
      ]
    },
    {
      "cell_type": "code",
      "execution_count": null,
      "metadata": {
        "id": "S-EembO_GsWA"
      },
      "outputs": [],
      "source": [
        "def print_stack(st):\n",
        "  if st.isEmpty():\n",
        "    return\n",
        "  p = st.pop()\n",
        "  print('|',p,end=' ')\n",
        "  if p<10:\n",
        "    print(' |')\n",
        "  else:\n",
        "    print('|')\n",
        "  #print('------')\n",
        "  print_stack(st)\n",
        "  st.push(p)\n",
        "\n",
        "# st = Stack()\n",
        "# st.push(4)\n",
        "# st.push(3)\n",
        "# st.push(5)\n",
        "# st.push(1)\n",
        "# st.push(9)\n",
        "# print_stack(st)\n",
        "# print('------')"
      ]
    },
    {
      "cell_type": "markdown",
      "metadata": {
        "id": "iNMnfqqpIga2"
      },
      "source": [
        "Task 1: Diamond Count"
      ]
    },
    {
      "cell_type": "code",
      "execution_count": null,
      "metadata": {
        "colab": {
          "base_uri": "https://localhost:8080/"
        },
        "id": "GnX70OIvG_gZ",
        "outputId": "e4748a20-98f7-47ff-8b8f-f33d72b2fc80"
      },
      "outputs": [
        {
          "name": "stdout",
          "output_type": "stream",
          "text": [
            "Test 01\n",
            "Number of Diamonds: 3\n",
            "Accepted\n",
            "-----------------------------------------\n",
            "Test 02\n",
            "Number of Diamonds: 1\n",
            "Accepted\n",
            "-----------------------------------------\n",
            "Test 03\n",
            "Number of Diamonds: 3\n",
            "Accepted\n",
            "-----------------------------------------\n"
          ]
        }
      ],
      "source": [
        "def diamond_count(stack,string):\n",
        "  count=0\n",
        "  for i in string:\n",
        "    if i==\"<\":\n",
        "      stack.push(i)\n",
        "    if i==\">\":\n",
        "      n=stack.pop()\n",
        "      if n==\"<\":\n",
        "        count+=1\n",
        "  return count\n",
        "\n",
        "\n",
        "\n",
        "print('Test 01')\n",
        "stack = Stack()\n",
        "string = '<..><.<..>> '\n",
        "returned_value = diamond_count(stack,string)\n",
        "print(f'Number of Diamonds: {returned_value}') #This should print 3\n",
        "unittest.output_test(returned_value, 3)\n",
        "print('-----------------------------------------')\n",
        "\n",
        "\n",
        "print('Test 02')\n",
        "stack = Stack()\n",
        "string = '<<<..<......<<<<....>'\n",
        "returned_value = diamond_count(stack,string)\n",
        "print(f'Number of Diamonds: {returned_value}') #This should print 1\n",
        "unittest.output_test(returned_value, 1)\n",
        "print('-----------------------------------------')\n",
        "\n",
        "\n",
        "print('Test 03')\n",
        "stack = Stack()\n",
        "string = '>>><...<<..>>...>...>>>'\n",
        "returned_value = diamond_count(stack,string)\n",
        "print(f'Number of Diamonds: {returned_value}') #This should print 3\n",
        "unittest.output_test(returned_value, 3)\n",
        "print('-----------------------------------------')"
      ]
    },
    {
      "cell_type": "markdown",
      "metadata": {
        "id": "PhCF3SZ6IX5g"
      },
      "source": [
        "Task 2: Tower of Blocks"
      ]
    },
    {
      "cell_type": "code",
      "execution_count": null,
      "metadata": {
        "colab": {
          "base_uri": "https://localhost:8080/"
        },
        "id": "W3N4q7YAHExr",
        "outputId": "c862265a-5815-40f9-eb66-1278e619f122"
      },
      "outputs": [
        {
          "name": "stdout",
          "output_type": "stream",
          "text": [
            "Test 01\n",
            "Stack:\n",
            "| 5  |\n",
            "| 17 |\n",
            "| 23 |\n",
            "| 19 |\n",
            "| 4  |\n",
            "------\n",
            "After Removal\n",
            "| 5  |\n",
            "| 23 |\n",
            "| 19 |\n",
            "| 4  |\n",
            "------\n",
            "\n",
            "======================================\n",
            "\n",
            "Test 02\n",
            "Stack:\n",
            "| 41 |\n",
            "| 15 |\n",
            "| 85 |\n",
            "| 73 |\n",
            "------\n",
            "After Removal\n",
            "| 41 |\n",
            "| 15 |\n",
            "| 73 |\n",
            "------\n",
            "\n",
            "======================================\n",
            "\n"
          ]
        }
      ],
      "source": [
        "def remove_block(stack, n):\n",
        "  count=0\n",
        "  temp=Stack()\n",
        "  while count<n:\n",
        "    temp.push(stack.pop())\n",
        "    count+=1\n",
        "  temp.pop()\n",
        "  while temp.isEmpty()==False:\n",
        "    stack.push(temp.pop())\n",
        "  return stack\n",
        "\n",
        "\n",
        "print('Test 01')\n",
        "st = Stack()\n",
        "st.push(4)\n",
        "st.push(19)\n",
        "st.push(23)\n",
        "st.push(17)\n",
        "st.push(5)\n",
        "print('Stack:')\n",
        "print_stack(st)\n",
        "print('------')\n",
        "remove_block(st,2)\n",
        "print('After Removal')\n",
        "print_stack(st)\n",
        "print('------')\n",
        "\n",
        "print()\n",
        "print('======================================')\n",
        "print()\n",
        "\n",
        "print('Test 02')\n",
        "st = Stack()\n",
        "st.push(73)\n",
        "st.push(85)\n",
        "st.push(15)\n",
        "st.push(41)\n",
        "print('Stack:')\n",
        "print_stack(st)\n",
        "print('------')\n",
        "remove_block(st,3)\n",
        "print('After Removal')\n",
        "print_stack(st)\n",
        "print('------')\n",
        "\n",
        "print()\n",
        "print('======================================')\n",
        "print()"
      ]
    },
    {
      "cell_type": "markdown",
      "metadata": {
        "id": "jcngRuqUWOfl"
      },
      "source": [
        "Task 3: Stack Reverse"
      ]
    },
    {
      "cell_type": "code",
      "execution_count": null,
      "metadata": {
        "colab": {
          "base_uri": "https://localhost:8080/"
        },
        "id": "gLSgfDKPWPnP",
        "outputId": "8cab1a8f-b1db-4151-e4a0-64ed64dbff4d"
      },
      "outputs": [
        {
          "name": "stdout",
          "output_type": "stream",
          "text": [
            "Test 01\n",
            "Stack:\n",
            "| 50 |\n",
            "| 10 |\n",
            "| 30 |\n",
            "| 20 |\n",
            "| 20 |\n",
            "| 10 |\n",
            "| 10 |\n",
            "------\n",
            "Top is: 10\n",
            "Conditional Reversed Stack:\n",
            "| 10 |\n",
            "| 20 |\n",
            "| 30 |\n",
            "| 10 |\n",
            "| 50 |\n",
            "------\n"
          ]
        }
      ],
      "source": [
        "def conditional_reverse(stack):\n",
        "    temp=Stack()\n",
        "    while stack.isEmpty()==False:\n",
        "      n=stack.pop()\n",
        "      if temp.isEmpty()==True:\n",
        "        temp.push(n)\n",
        "      else:\n",
        "        x=temp.peek()\n",
        "        if x!=n:\n",
        "          temp.push(n)\n",
        "    print(\"Top is:\",temp.peek())\n",
        "    return temp\n",
        "\n",
        "\n",
        "\n",
        "\n",
        "print('Test 01')\n",
        "st=Stack()\n",
        "st.push(10)\n",
        "st.push(10)\n",
        "st.push(20)\n",
        "st.push(20)\n",
        "st.push(30)\n",
        "st.push(10)\n",
        "st.push(50)\n",
        "print('Stack:')\n",
        "print_stack(st)\n",
        "print('------')\n",
        "reversed_stack=conditional_reverse(st)\n",
        "print('Conditional Reversed Stack:')\n",
        "print_stack(reversed_stack) # This stack contains 50, 10, 30, 20, 10 in this order whereas top element should be 10\n",
        "print('------')"
      ]
    }
  ],
  "metadata": {
    "colab": {
      "provenance": []
    },
    "kernelspec": {
      "display_name": "Python 3",
      "name": "python3"
    },
    "language_info": {
      "name": "python"
    }
  },
  "nbformat": 4,
  "nbformat_minor": 0
}
