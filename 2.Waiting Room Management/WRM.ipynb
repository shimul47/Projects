{
  "cells": [
    {
      "cell_type": "code",
      "execution_count": null,
      "metadata": {
        "colab": {
          "base_uri": "https://localhost:8080/"
        },
        "id": "Pp1R95Pe7ID2",
        "outputId": "f02b0d29-deea-4ddd-877f-13438a62d94b"
      },
      "outputs": [
        {
          "name": "stdout",
          "output_type": "stream",
          "text": [
            "Collecting fhm-unittest\n",
            "  Downloading fhm_unittest-1.0.1-py3-none-any.whl (2.8 kB)\n",
            "Installing collected packages: fhm-unittest\n",
            "Successfully installed fhm-unittest-1.0.1\n",
            "Collecting fuzzywuzzy\n",
            "  Downloading fuzzywuzzy-0.18.0-py2.py3-none-any.whl (18 kB)\n",
            "Installing collected packages: fuzzywuzzy\n",
            "Successfully installed fuzzywuzzy-0.18.0\n"
          ]
        },
        {
          "name": "stderr",
          "output_type": "stream",
          "text": [
            "/usr/local/lib/python3.10/dist-packages/fuzzywuzzy/fuzz.py:11: UserWarning: Using slow pure-python SequenceMatcher. Install python-Levenshtein to remove this warning\n",
            "  warnings.warn('Using slow pure-python SequenceMatcher. Install python-Levenshtein to remove this warning')\n"
          ]
        }
      ],
      "source": [
        "! pip3 install fhm-unittest\n",
        "! pip3 install fuzzywuzzy\n",
        "import fhm_unittest as unittest\n",
        "import numpy as np"
      ]
    },
    {
      "cell_type": "code",
      "execution_count": null,
      "metadata": {
        "id": "itoWpG7oNziA"
      },
      "outputs": [],
      "source": [
        "class Patient:\n",
        "  def __init__(self,id,name,age,bloodgroup,next=None,prev=None):\n",
        "    self.id=id\n",
        "    self.name=name\n",
        "    self.age=age\n",
        "    self.bg=bloodgroup\n",
        "    self.next=next\n",
        "    self.prev=prev"
      ]
    },
    {
      "cell_type": "code",
      "execution_count": null,
      "metadata": {
        "id": "dNx7zTJ1OZNv"
      },
      "outputs": [],
      "source": [
        "class WRM:\n",
        "  def __init__(self):\n",
        "    print(\"Welcome to Wating Room Management System\")\n",
        "    self.head = Patient(None,None,None,None)\n",
        "    self.head.next = self.head\n",
        "    self.head.prev = self.head\n",
        "  def registerPatient(self,name,id,age,bloodg):\n",
        "    temp = self.head\n",
        "    while temp.next != self.head:\n",
        "      if temp.next.id == id:\n",
        "        return\"ID must be unique\"\n",
        "      temp = temp.next\n",
        "    newPatient = Patient(id,name,age,bloodg,self.head,temp)\n",
        "    temp.next = newPatient\n",
        "    self.head.prev = newPatient\n",
        "    return \"Patient added successful\"\n",
        "  def servePatient(self):\n",
        "    if self.head.next !=  self.head:\n",
        "      y = self.head.next\n",
        "      y.next.prev = self.head\n",
        "      self.head.next = y.next\n",
        "      print(f'{y.name} is being served')\n",
        "    else:\n",
        "      print(\"Wating room is empty\")\n",
        "  def cancelAll(self):\n",
        "    if self.head.next != self.head:\n",
        "      self.head.next = self.head\n",
        "      self.head.prev = self.head\n",
        "      print(\"Successfully canceled all appointment\")\n",
        "    else:\n",
        "      print(\"Wating room is empty!\")\n",
        "  def canDoctorGoHome(self):\n",
        "    if self.head.next == self.head:\n",
        "      return True\n",
        "    else:\n",
        "      return False\n",
        "  def showAllPatient(self):\n",
        "    if self.head.next != self.head:\n",
        "      temp = self.head.next\n",
        "      count = 1\n",
        "      print(\"Showing all the patitent in the wating room.....\")\n",
        "      while temp != self.head:\n",
        "        print(f'{count}.{temp.name}',end = \" \")\n",
        "        count += 1\n",
        "        temp = temp.next\n",
        "    else:\n",
        "      print(\"Wating room is empty\")\n",
        "  def ReverseAll(self):\n",
        "    if self.head.next != self.head:\n",
        "      temp =  self.head\n",
        "      temp.next, temp.prev = temp.prev, temp.next\n",
        "      temp = temp.prev\n",
        "      while temp != self.head:\n",
        "        temp.next, temp.prev = temp.prev, temp.next\n",
        "        temp = temp.prev\n",
        "      print(\"Successfully reversed the line\")\n",
        "    else:\n",
        "      print(\"Reverse unsuccessful beacause wating room is empty\")"
      ]
    },
    {
      "cell_type": "code",
      "execution_count": null,
      "metadata": {
        "colab": {
          "base_uri": "https://localhost:8080/"
        },
        "id": "LFwP4DP0ylts",
        "outputId": "dc67cd5d-2398-466f-85e2-01d95b0e2e9f"
      },
      "outputs": [
        {
          "name": "stdout",
          "output_type": "stream",
          "text": [
            "Welcome to Wating Room Management System\n",
            "\n",
            "**Choose an option**\n",
            "1.Add Patient\n",
            "2.Serve Patient\n",
            "3.Show all Patient\n",
            "4.Can Doctor Go Home\n",
            "5.Cancel all appointment\n",
            "6.Reverse the line\n",
            "7.exit\n",
            "********************\n",
            "\n",
            "Enter your choice: \n",
            "1\n",
            "ID: 22\n",
            "Name: shi\n",
            "Age: 23\n",
            "BloodGroup: b_\n",
            "Patient added successful\n",
            "\n",
            "**Choose an option**\n",
            "1.Add Patient\n",
            "2.Serve Patient\n",
            "3.Show all Patient\n",
            "4.Can Doctor Go Home\n",
            "5.Cancel all appointment\n",
            "6.Reverse the line\n",
            "7.exit\n",
            "********************\n",
            "\n",
            "Enter your choice: \n",
            "3\n",
            "Showing all the patitent in the wating room.....\n",
            "1.shi \n",
            "**Choose an option**\n",
            "1.Add Patient\n",
            "2.Serve Patient\n",
            "3.Show all Patient\n",
            "4.Can Doctor Go Home\n",
            "5.Cancel all appointment\n",
            "6.Reverse the line\n",
            "7.exit\n",
            "********************\n",
            "\n",
            "Enter your choice: \n",
            "7\n",
            "Exiting.....\n"
          ]
        }
      ],
      "source": [
        "wating_room = WRM()\n",
        "while True:\n",
        "  print(\"\\n**Choose an option**\\n1.Add Patient\\n2.Serve Patient\\n3.Show all Patient\\n4.Can Doctor Go Home\\n5.Cancel all appointment\\n6.Reverse the line\\n7.exit\\n********************\\n\")\n",
        "  option = int(input(\"Enter your choice: \\n\"))\n",
        "  if option == 1:\n",
        "    print(wating_room.registerPatient(id=int(input(\"ID: \")),name=input(\"Name: \"),age=int(input(\"Age: \")),bloodg=input(\"BloodGroup: \")))\n",
        "  elif option == 2:\n",
        "    wating_room.servePatient()\n",
        "  elif option == 3:\n",
        "    wating_room.showAllPatient()\n",
        "  elif option == 4:\n",
        "    x = wating_room.canDoctorGoHome()\n",
        "    if x == True:\n",
        "      print(\"yes\")\n",
        "    else:\n",
        "      print(\"No\")\n",
        "  elif option == 5:\n",
        "    wating_room.cancelAll()\n",
        "  elif option == 6:\n",
        "    wating_room.ReverseAll()\n",
        "  elif option>7:\n",
        "    print(\"Enter a valid option\")\n",
        "  elif option == 7:\n",
        "    print(\"Exiting.....\")\n",
        "    break\n"
      ]
    },
    {
      "cell_type": "code",
      "execution_count": null,
      "metadata": {
        "id": "jKhbn1LAPfjr"
      },
      "outputs": [],
      "source": [
        "#w=WRM()\n",
        "# print(w.registerPatient(22,'shimul',21,'b'))\n",
        "# print(w.registerPatient(21,'sam',21,'b'))\n",
        "\n",
        "# w.showAllPatient()\n",
        "# w.canDoctorGoHome()\n",
        "# w.cancelAll()\n",
        "# w.showAllPatient()\n",
        "# w.ReverseTheLine()"
      ]
    }
  ],
  "metadata": {
    "colab": {
      "provenance": []
    },
    "kernelspec": {
      "display_name": "Python 3",
      "name": "python3"
    },
    "language_info": {
      "name": "python"
    }
  },
  "nbformat": 4,
  "nbformat_minor": 0
}
